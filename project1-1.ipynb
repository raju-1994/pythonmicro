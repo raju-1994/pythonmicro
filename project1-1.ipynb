{
 "metadata": {
  "language_info": {
   "codemirror_mode": {
    "name": "ipython",
    "version": 3
   },
   "file_extension": ".py",
   "mimetype": "text/x-python",
   "name": "python",
   "nbconvert_exporter": "python",
   "pygments_lexer": "ipython3",
   "version": "3.8.1-final"
  },
  "orig_nbformat": 2,
  "kernelspec": {
   "name": "Python 3.8.1 64-bit",
   "display_name": "Python 3.8.1 64-bit",
   "metadata": {
    "interpreter": {
     "hash": "2db524e06e9f5f4ffedc911c917cb75e12dbc923643829bf417064a77eb14d37"
    }
   }
  }
 },
 "nbformat": 4,
 "nbformat_minor": 2,
 "cells": [
  {
   "cell_type": "code",
   "execution_count": 5,
   "metadata": {},
   "outputs": [
    {
     "output_type": "stream",
     "name": "stdout",
     "text": [
      "1\n"
     ]
    }
   ],
   "source": [
    "import PyPDF2\n",
    "pdfFileObj = open('example2.pdf', 'rb')\n",
    "pdfReader = PyPDF2.PdfFileReader(pdfFileObj)\n",
    "no = pdfReader.numPages\n",
    "print(no)"
   ]
  },
  {
   "cell_type": "code",
   "execution_count": 9,
   "metadata": {},
   "outputs": [
    {
     "output_type": "stream",
     "name": "stdout",
     "text": [
      "1.\n \nMDA Operator ID Text box (i.e. allows characters and numbers maximum of 10)\n \n2.\n \nNov and Non are acronyms and should be all caps (i.e. NOV, NON)\n \n3.\n \n\nduring requirements. However, we will ensure validations are implemented based on \nrequirements questions answer Yes/No. \n \n4.\n \nNON Validation: \n \na.\n \n\nSubmitted?\n\n(and therefore AIR Complete)\n \nequals \n\n \nb.\n \nIf the answer to question \"AIR Complete?\" equals \"No\" then ensure NON details \nare captured\n \n5.\n \nNOV Validation\n:\n \n \na.\n \nIf the answer to \nNON Stat\n\n-\n\n \n\n\n \n6.\n \n\n \na.\n \nDid you Received the Solid Waste AFO Annual Implementation Report (AIR Report) \n\n \nb.\n \nAIR is it Complet\n\n \n7.\n \n\nNON Status is \"Compliant\"\n \n8.\n \n\n \n9.\n \n\n \na.\n \n\n\n\n \nb.\n \n\n \nc.\n \n\n \n10.\n \nEnsure Work Activity log gets added with NON Status and NOV Status accordingly by that way \nhistory of changes are retained and maintained.\n \n \nNon UI Field\ns\n \nIssued Date\n \n \nUpdate Completed \nDate once NON or NOV \n\n \nNON or \nNOV \n \nStatus\n \nReason\n \nWAL UI Fields\n \nStart Date\n \nCompleted Date \n \nStatus\n \nComments\n \nNON Issued\n \n05/29/2019\n \n9/24/2020\n \nCompliant\n \nDid not submit\n \nNOV Issued\n \n07/29/2019\n \n9/24/2020\n \n \nCompliant\n \nFine Received + Yes or No \nwith Amount (if Yes)\n \n \nThe above work activity log signifies that NON was issued on May 29\nth\n \nand NOV on Jul 29\nth\n \nNOV. Paid \nfine and got them onto compliance on September 24,2020.\n \n11.\n \nViolation Table Update: Please\n \nensure Violation table gets updated once data gets entered into \nNOV. Update the violation as compliant once fine gets paid and status gets compliant. \n \n \nSo\n \nthe \"NON\" is a warning letter, but the \"NOV\" is a violation letter\n-\n \nmeaning that is considered \nenforcement. So if the requirements are not satisfied after the operator received the NON, then we \nmove into the enforcement stage, which is the NOV w/ a fine. \n \n \n\n"
     ]
    }
   ],
   "source": [
    "pageObj = pdfReader.getPage(0)\n",
    "pdftext = pageObj.extractText()\n",
    "print(pdftext)\n",
    "pdfFileObj.close()"
   ]
  },
  {
   "cell_type": "code",
   "execution_count": 11,
   "metadata": {},
   "outputs": [],
   "source": [
    "pdf1File = open('example1.pdf', 'rb')\n",
    "pdf2File = open('example2.pdf', 'rb')\n",
    "pdf1Reader = PyPDF2.PdfFileReader(pdf1File)\n",
    "pdf2Reader = PyPDF2.PdfFileReader(pdf2File)\n",
    "pdfWriter = PyPDF2.PdfFileWriter()\n",
    "for pageNum in range(pdf1Reader.numPages):\n",
    "    pageObj = pdf1Reader.getPage(pageNum)\n",
    "    pdfWriter.addPage(pageObj)\n",
    "\n",
    "for pageNum in range(pdf2Reader.numPages):\n",
    "    pageObj = pdf2Reader.getPage(pageNum)\n",
    "    pdfWriter.addPage(pageObj)\n",
    "\n",
    "pdfOutputFile = open('combinedexm.pdf', 'wb')\n",
    "pdfWriter.write(pdfOutputFile)\n",
    "pdfOutputFile.close()\n",
    "pdf1File.close()\n",
    "pdf2File.close()"
   ]
  },
  {
   "cell_type": "code",
   "execution_count": 13,
   "metadata": {},
   "outputs": [],
   "source": [
    "exmFile = open('example1.pdf', 'rb')\n",
    "pdfReader = PyPDF2.PdfFileReader(exmFile)\n",
    "page = pdfReader.getPage(0)\n",
    "page.rotateClockwise(90)\n",
    "\n",
    "pdfWriter = PyPDF2.PdfFileWriter()\n",
    "pdfWriter.addPage(page)\n",
    "resultPdfFile = open('rotatedPage.pdf', 'wb')\n",
    "pdfWriter.write(resultPdfFile)\n",
    "resultPdfFile.close()\n",
    "exmFile.close()"
   ]
  },
  {
   "cell_type": "code",
   "execution_count": 16,
   "metadata": {},
   "outputs": [],
   "source": [
    "exmFile1 = open('example1.pdf', 'rb')\n",
    "pdfReader = PyPDF2.PdfFileReader(exmFile1)\n",
    "exmFirstPage = pdfReader.getPage(0)\n",
    "pdfWatermarkReader = PyPDF2.PdfFileReader(open('example2.pdf', 'rb'))\n",
    "exmFirstPage.mergePage(pdfWatermarkReader.getPage(0))\n",
    "pdfWriter = PyPDF2.PdfFileWriter()\n",
    "pdfWriter.addPage(exmFirstPage)\n",
    "\n",
    "for pageNum in range(1, pdfReader.numPages):\n",
    "    pageObj = pdfReader.getPage(pageNum)\n",
    "    pdfWriter.addPage(pageObj)\n",
    "\n",
    "resultPdfFile = open('merged.pdf', 'wb')\n",
    "pdfWriter.write(resultPdfFile)\n",
    "exmFile1.close()\n",
    "resultPdfFile.close()"
   ]
  },
  {
   "cell_type": "code",
   "execution_count": 17,
   "metadata": {},
   "outputs": [
    {
     "output_type": "stream",
     "name": "stdout",
     "text": [
      "True\n"
     ]
    }
   ],
   "source": [
    "pdfFile = open('example1.pdf', 'rb')\n",
    "pdfReader = PyPDF2.PdfFileReader(pdfFile)\n",
    "pdfWriter = PyPDF2.PdfFileWriter()\n",
    "for pageNum in range(pdfReader.numPages):\n",
    "    pdfWriter.addPage(pdfReader.getPage(pageNum))\n",
    "\n",
    "pdfWriter.encrypt('test123')\n",
    "resultPdf = open('example1p.pdf', 'wb')\n",
    "pdfWriter.write(resultPdf)\n",
    "resultPdf.close()\n",
    "\n",
    "pdfReader = PyPDF2.PdfFileReader(open('example1p.pdf', 'rb'))\n",
    "print(pdfReader.isEncrypted)"
   ]
  },
  {
   "cell_type": "code",
   "execution_count": 22,
   "metadata": {},
   "outputs": [
    {
     "output_type": "stream",
     "name": "stdout",
     "text": [
      "['combinedexm.pdf', 'example1.pdf', 'example1p.pdf', 'example2.pdf', 'example3.pdf', 'merged.pdf', 'rotatedPage.pdf', 'test.pdf', 'testp.pdf']\n"
     ]
    }
   ],
   "source": [
    "import os\n",
    "pdfFiles = []\n",
    "for filename in os.listdir('.'):\n",
    "    if filename.endswith('.pdf'):\n",
    "        pdfFiles.append(filename)\n",
    "pdfFiles.sort(key = str.lower)\n",
    "print(pdfFiles)"
   ]
  },
  {
   "cell_type": "code",
   "execution_count": 29,
   "metadata": {},
   "outputs": [],
   "source": [
    "pdfWriter = PyPDF2.PdfFileWriter()\n",
    "for filename in pdfFiles:\n",
    "    pdfFileObj = open(filename, 'rb')    \n",
    "    pdfReader = PyPDF2.PdfFileReader(open(filename, 'rb'))\n",
    "    if not pdfReader.isEncrypted:\n",
    "        pdfReader = PyPDF2.PdfFileReader(pdfFileObj)\n",
    "        for pageNum in range(1, pdfReader.numPages):\n",
    "            pageObj = pdfReader.getPage(pageNum)\n",
    "            pdfWriter.addPage(pageObj)\n",
    "pdfOutput = open('allfiles.pdf', 'wb')\n",
    "pdfWriter.write(pdfOutput)\n",
    "pdfOutput.close()"
   ]
  },
  {
   "cell_type": "code",
   "execution_count": 31,
   "metadata": {},
   "outputs": [
    {
     "output_type": "stream",
     "name": "stdout",
     "text": [
      "File exists:True\n"
     ]
    }
   ],
   "source": [
    " print (\"File exists:\"+str(os.path.exists('allfiles.pdf')))"
   ]
  }
 ]
}