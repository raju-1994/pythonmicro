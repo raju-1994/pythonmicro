{
 "metadata": {
  "language_info": {
   "codemirror_mode": {
    "name": "ipython",
    "version": 3
   },
   "file_extension": ".py",
   "mimetype": "text/x-python",
   "name": "python",
   "nbconvert_exporter": "python",
   "pygments_lexer": "ipython3",
   "version": "3.8.5-final"
  },
  "orig_nbformat": 2,
  "kernelspec": {
   "name": "python38532bit3d0946b7f3f1466089d0fa4daeb875af",
   "display_name": "Python 3.8.5 32-bit"
  }
 },
 "nbformat": 4,
 "nbformat_minor": 2,
 "cells": [
  {
   "cell_type": "code",
   "execution_count": 38,
   "metadata": {
    "tags": []
   },
   "outputs": [
    {
     "output_type": "execute_result",
     "data": {
      "text/plain": "234168"
     },
     "metadata": {},
     "execution_count": 38
    }
   ],
   "source": [
    "a=[]\n",
    "i=1\n",
    "while i<=1000:    \n",
    "    if(i%3==0 or i%5==0):        \n",
    "        a.append(i)\n",
    "    i+=1\n",
    "\n",
    "sum(a)\n"
   ]
  },
  {
   "cell_type": "code",
   "execution_count": 45,
   "metadata": {},
   "outputs": [
    {
     "output_type": "execute_result",
     "data": {
      "text/plain": "234168"
     },
     "metadata": {},
     "execution_count": 45
    }
   ],
   "source": [
    "c=0\n",
    "i=1\n",
    "while i<=1000:    \n",
    "    if(i%3==0 or i%5==0):        \n",
    "        c+=i\n",
    "    i+=1\n",
    "c"
   ]
  },
  {
   "cell_type": "code",
   "execution_count": 55,
   "metadata": {
    "tags": []
   },
   "outputs": [
    {
     "output_type": "execute_result",
     "data": {
      "text/plain": "4613732"
     },
     "metadata": {},
     "execution_count": 55
    }
   ],
   "source": [
    "d=[1,2]\n",
    "e=2\n",
    "i=1\n",
    "while i<=4000000:    \n",
    "    d.append(d[-1]+d[-2])\n",
    "    if(d[-1]%2==0):        \n",
    "        e+=d[-1]\n",
    "    i=d[-1]\n",
    "e"
   ]
  },
  {
   "cell_type": "code",
   "execution_count": 80,
   "metadata": {
    "tags": []
   },
   "outputs": [
    {
     "output_type": "execute_result",
     "data": {
      "text/plain": "2639"
     },
     "metadata": {},
     "execution_count": 80
    }
   ],
   "source": [
    "f=1\n",
    "i=1\n",
    "while i<13195: \n",
    "    if(13195%i==0 and i%2!=0):        \n",
    "        f=i\n",
    "    i+=1\n",
    "f"
   ]
  },
  {
   "cell_type": "code",
   "execution_count": 81,
   "metadata": {
    "tags": []
   },
   "outputs": [
    {
     "output_type": "stream",
     "name": "stdout",
     "text": "2\n3\n4\n5\n6\n7\n8\n9\n10\n11\n12\n"
    },
    {
     "output_type": "execute_result",
     "data": {
      "text/plain": "29"
     },
     "metadata": {},
     "execution_count": 81
    }
   ],
   "source": [
    "primeFactor = 1\n",
    "i = 2\n",
    "n=13195  \n",
    "while i <= n / i:  \n",
    "    \n",
    "    if n % i == 0:\n",
    "        primeFactor = i         \n",
    "        n /= i\n",
    "    else:\n",
    "        print(i)\n",
    "        i += 1\n",
    "\n",
    "if primeFactor < n: primeFactor = int(n)\n",
    "primeFactor"
   ]
  },
  {
   "cell_type": "code",
   "execution_count": null,
   "metadata": {},
   "outputs": [],
   "source": []
  }
 ]
}