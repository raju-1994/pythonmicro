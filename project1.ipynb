{
 "metadata": {
  "language_info": {
   "codemirror_mode": {
    "name": "ipython",
    "version": 3
   },
   "file_extension": ".py",
   "mimetype": "text/x-python",
   "name": "python",
   "nbconvert_exporter": "python",
   "pygments_lexer": "ipython3",
   "version": "3.8.5-final"
  },
  "orig_nbformat": 2,
  "kernelspec": {
   "name": "python38532bit3d0946b7f3f1466089d0fa4daeb875af",
   "display_name": "Python 3.8.5 32-bit"
  }
 },
 "nbformat": 4,
 "nbformat_minor": 2,
 "cells": [
  {
   "cell_type": "code",
   "execution_count": 12,
   "metadata": {},
   "outputs": [
    {
     "output_type": "stream",
     "name": "stdout",
     "text": [
      "1\nTrue\n"
     ]
    },
    {
     "output_type": "execute_result",
     "data": {
      "text/plain": [
       "1"
      ]
     },
     "metadata": {},
     "execution_count": 12
    }
   ],
   "source": [
    "import PyPDF2\n",
    "pdfFileObj = open('test.pdf', 'rb')\n",
    "pdfReader = PyPDF2.PdfFileReader(pdfFileObj)\n",
    "no = pdfReader.numPages\n",
    "\n",
    "print(no)\n",
    "\n",
    "pdfReader = PyPDF2.PdfFileReader(open('testp.pdf', 'rb'))\n",
    "print(pdfReader.isEncrypted)\n",
    "\n",
    "pdfReader = PyPDF2.PdfFileReader(open('testp.pdf', 'rb'))\n",
    "pdfReader.decrypt('test123')\n"
   ]
  }
 ]
}